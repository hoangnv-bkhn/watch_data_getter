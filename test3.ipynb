{
 "cells": [
  {
   "cell_type": "code",
   "execution_count": 11,
   "metadata": {
    "collapsed": true,
    "pycharm": {
     "name": "#%%\n"
    }
   },
   "outputs": [],
   "source": [
    "import mysql.connector\n",
    "import csv\n",
    "import requests\n",
    "from bs4 import BeautifulSoup, SoupStrainer\n",
    "import lxml\n",
    "import time\n",
    "import random\n",
    "import datetime"
   ]
  },
  {
   "cell_type": "code",
   "execution_count": 2,
   "outputs": [
    {
     "name": "stdout",
     "output_type": "stream",
     "text": [
      "621\n",
      "(3, 'Cabaret', ' ', 1, datetime.datetime(2022, 6, 8, 10, 15, 56), datetime.datetime(2022, 6, 8, 10, 15, 56))\n",
      "615\n"
     ]
    }
   ],
   "source": [
    "con = mysql.connector.connect(\n",
    "    host=\"localhost\", user=\"root\",\n",
    "    password=\"\", database=\"dnk\")\n",
    "\n",
    "# create cursor object\n",
    "cursor = con.cursor()\n",
    "\n",
    "# assign data query\n",
    "q_models = \"select * from models\"\n",
    "\n",
    "# executing cursor\n",
    "cursor.execute(q_models)\n",
    "models = cursor.fetchall()\n",
    "\n",
    "print(len(models))\n",
    "print(models[2])\n",
    "\n",
    "\n",
    "def get_model_id(model_name):\n",
    "    for record in models:\n",
    "        if record[1] == model_name:\n",
    "            return record[0]\n",
    "    return -1\n",
    "\n",
    "\n",
    "print(get_model_id('Class'))"
   ],
   "metadata": {
    "collapsed": false,
    "pycharm": {
     "name": "#%%\n"
    }
   }
  },
  {
   "cell_type": "code",
   "execution_count": 3,
   "outputs": [],
   "source": [
    "read_file = \"refs_links.csv\"\n",
    "list_refs_link = []\n",
    "with open(read_file, 'r') as csvfile:\n",
    "    csvreader = csv.reader(csvfile)\n",
    "    for row in csvreader:\n",
    "        list_refs_link.append(row)"
   ],
   "metadata": {
    "collapsed": false,
    "pycharm": {
     "name": "#%%\n"
    }
   }
  },
  {
   "cell_type": "code",
   "execution_count": 4,
   "outputs": [
    {
     "name": "stdout",
     "output_type": "stream",
     "text": [
      "33107\n",
      "221\n",
      "['https://watchbase.com/a-lange-sohne/1815/236-049']\n"
     ]
    }
   ],
   "source": [
    "print(len(list_refs_link))\n",
    "chunks = [list_refs_link[x:x + 150] for x in range(0, len(list_refs_link), 150)]\n",
    "print(len(chunks))\n",
    "print(chunks[0][0])"
   ],
   "metadata": {
    "collapsed": false,
    "pycharm": {
     "name": "#%%\n"
    }
   }
  },
  {
   "cell_type": "code",
   "execution_count": 17,
   "outputs": [
    {
     "name": "stdout",
     "output_type": "stream",
     "text": [
      "Process took: 0:19:57.222738\n",
      "DONE\n"
     ]
    }
   ],
   "source": [
    "refs_dict = {}\n",
    "err_link = []\n",
    "begin = time.time()\n",
    "for chunk in chunks[30:40]:\n",
    "    session = requests.Session()\n",
    "    for refs_link in chunk:\n",
    "        try:\n",
    "            # refs_link = \"https://watchbase.com/vacheron-constantin/overseas/2300v-100m-b400\"\n",
    "            header1 = {\n",
    "                'User-Agent': 'Mozilla/5.0 (Macintosh; Intel Mac OS X 10_11_5) AppleWebKit/537.36 (KHTML, like Gecko) Chrome/50.0.2661.102 Safari/537.36'}\n",
    "\n",
    "            header2 = {\n",
    "                'User-Agent': 'Mozilla/5.0 (Windows NT 10.0; Win64; x64) AppleWebKit/537.36 (KHTML, like Gecko) Chrome/102.0.0.0 Safari/537.36'}\n",
    "\n",
    "            response = session.get(refs_link[0], headers=random.choice([header1, header2]))\n",
    "            strainer = SoupStrainer('div', attrs={'class': 'col-md-7'})\n",
    "            soup = BeautifulSoup(response.content, \"lxml\", parse_only=strainer)\n",
    "\n",
    "            # REFS\n",
    "            model_id = -1\n",
    "            movement = ' '\n",
    "            caseMaterial = ' '\n",
    "            caseBack = ' '\n",
    "            caseSize = ' '\n",
    "            bezelMaterial = ' '\n",
    "            dialMaterial = ' '\n",
    "            waterResistance = ' '\n",
    "            # WATCH\n",
    "            # name = ' '\n",
    "            # dialColor = ' '\n",
    "            # yearOfProduction = ' '\n",
    "            imageLink = ' '\n",
    "\n",
    "            info_table = soup.select('table.info-table')\n",
    "            # print(len(info_table))\n",
    "            frag1 = info_table[0].find_all(\"tr\")\n",
    "            refs_name = frag1[2].td.text.strip()\n",
    "            for criteria in frag1:\n",
    "                if criteria.th.text == \"Family:\":\n",
    "                    model_id = get_model_id(criteria.td.text.strip())\n",
    "                if criteria.th.text == \"Movement:\":\n",
    "                    movement = criteria.td.text.strip()\n",
    "\n",
    "            frag2 = info_table[1].find_all(\"tr\")\n",
    "            for criteria in frag2:\n",
    "                if criteria.th.text == \"Materials:\":\n",
    "                    caseMaterial = criteria.td.text.strip()\n",
    "                if criteria.th.text == \"Back:\":\n",
    "                    caseBack = criteria.td.text.strip()\n",
    "                if criteria.th.text == \"Diameter:\":\n",
    "                    caseSize = criteria.td.text.strip()\n",
    "                if criteria.th.text == \"Bezel:\":\n",
    "                    bezelMaterial = criteria.td.text.strip()\n",
    "                if criteria.th.text == \"W/R:\":\n",
    "                    waterResistance = criteria.td.text.strip()\n",
    "\n",
    "            frag3 = info_table[2].find_all(\"tr\")\n",
    "            for criteria in frag3:\n",
    "                if criteria.th.text == \"Material:\":\n",
    "                    dialMaterial = criteria.td.text.strip()\n",
    "\n",
    "            watch_image = soup.find('img')\n",
    "            if watch_image is not None:\n",
    "                imageLink = watch_image.get('src')\n",
    "\n",
    "            refs_dict[refs_name] = model_id, movement, caseMaterial, caseBack, caseSize, bezelMaterial, dialMaterial, waterResistance, imageLink\n",
    "        except:\n",
    "            err_link.append(refs_link[0])\n",
    "        time.sleep(random.uniform(0.4, 0.6))\n",
    "\n",
    "    time.sleep(random.uniform(2, 3))\n",
    "\n",
    "end = time.time()\n",
    "print(\"Process took:\", datetime.timedelta(seconds=end-begin))\n",
    "print(\"DONE\")"
   ],
   "metadata": {
    "collapsed": false,
    "pycharm": {
     "name": "#%%\n"
    }
   }
  },
  {
   "cell_type": "code",
   "execution_count": 19,
   "outputs": [
    {
     "name": "stdout",
     "output_type": "stream",
     "text": [
      "230\n",
      "1270\n"
     ]
    }
   ],
   "source": [
    "# print(refs_name)\n",
    "# done 0-10\n",
    "print(len(refs_dict))\n",
    "print(len(err_link))\n",
    "# print(err_link[650])\n",
    "\n",
    "# err_ref_links_file = \"err_refs_links.csv\"\n",
    "#\n",
    "# with open(err_ref_links_file, 'a', encoding='UTF8', newline='') as f:\n",
    "#     writer = csv.writer(f)\n",
    "#     for elem in err_link:\n",
    "#         writer.writerow([elem])"
   ],
   "metadata": {
    "collapsed": false,
    "pycharm": {
     "name": "#%%\n"
    }
   }
  },
  {
   "cell_type": "code",
   "execution_count": 20,
   "outputs": [],
   "source": [
    "refsFile = \"refs.csv\"\n",
    "\n",
    "fieldnames_models = ['refsName', 'modelId', 'movement', 'caseMaterial', 'caseBack', 'caseSize', 'bezelMaterial', 'dialMaterial', 'waterResistance', 'imageLink']\n",
    "# write models\n",
    "with open(refsFile, 'a', encoding='UTF8', newline='') as f:\n",
    "    writer = csv.DictWriter(f, fieldnames=fieldnames_models, delimiter=\",\")\n",
    "    writer.writeheader()\n",
    "    rows = list()\n",
    "    for key, value in refs_dict.items():\n",
    "        row = {\"refsName\":key, \"modelId\":value[0], \"movement\": value[1], \"caseMaterial\": value[2], \"caseBack\": value[3], \"caseSize\": value[4], \"bezelMaterial\": value[5], \"dialMaterial\": value[6], \"waterResistance\": value[7], \"imageLink\": value[8]}\n",
    "        rows.append(row)\n",
    "\n",
    "    writer.writerows(rows)"
   ],
   "metadata": {
    "collapsed": false,
    "pycharm": {
     "name": "#%%\n"
    }
   }
  }
 ],
 "metadata": {
  "kernelspec": {
   "display_name": "Python 3",
   "language": "python",
   "name": "python3"
  },
  "language_info": {
   "codemirror_mode": {
    "name": "ipython",
    "version": 2
   },
   "file_extension": ".py",
   "mimetype": "text/x-python",
   "name": "python",
   "nbconvert_exporter": "python",
   "pygments_lexer": "ipython2",
   "version": "2.7.6"
  }
 },
 "nbformat": 4,
 "nbformat_minor": 0
}